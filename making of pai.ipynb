{
 "cells": [
  {
   "cell_type": "code",
   "execution_count": 1,
   "metadata": {},
   "outputs": [
    {
     "data": {
      "text/plain": [
       "['.ipynb_checkpoints',\n",
       " 'app.py',\n",
       " 'chancealgo.py',\n",
       " 'making of pai.ipynb',\n",
       " 'Templates']"
      ]
     },
     "execution_count": 1,
     "metadata": {},
     "output_type": "execute_result"
    }
   ],
   "source": [
    "import os\n",
    "os.listdir()"
   ]
  },
  {
   "cell_type": "code",
   "execution_count": 2,
   "metadata": {},
   "outputs": [],
   "source": [
    "from chancealgo import run_rounds_api"
   ]
  },
  {
   "cell_type": "code",
   "execution_count": 3,
   "metadata": {},
   "outputs": [],
   "source": [
    "n_rounds = 2\n",
    "n_plr = 10\n",
    "plr_added_r = 2\n",
    "\n",
    "plr_added_s = 1\n",
    "num_spins = 5\n",
    "rt = 5\n",
    "chance = 5\n",
    "stake = 1\n",
    "freebie = 100"
   ]
  },
  {
   "cell_type": "markdown",
   "metadata": {},
   "source": [
    "To show\n",
    "- Who won maximum profits \n",
    "- How many free disk did we give\n",
    "- How many"
   ]
  },
  {
   "cell_type": "code",
   "execution_count": 4,
   "metadata": {},
   "outputs": [
    {
     "data": {
      "text/plain": [
       "([[set(), set(), set(), set(), {0}]],\n",
       " [[0, 96],\n",
       "  [1, 90],\n",
       "  [2, 90],\n",
       "  [3, 90],\n",
       "  [4, 90],\n",
       "  [5, 90],\n",
       "  [6, 90],\n",
       "  [7, 90],\n",
       "  [8, 90],\n",
       "  [9, 90],\n",
       "  [10, 91],\n",
       "  [11, 92],\n",
       "  [12, 93],\n",
       "  [13, 94],\n",
       "  [14, 95],\n",
       "  [15, 95],\n",
       "  [16, 96],\n",
       "  [17, 97],\n",
       "  [18, 98],\n",
       "  [19, 99]])"
      ]
     },
     "execution_count": 4,
     "metadata": {},
     "output_type": "execute_result"
    }
   ],
   "source": [
    " run_rounds_api( n_rounds,\n",
    "    n_plr,\n",
    "    plr_added_r,\n",
    "    plr_added_s,\n",
    "    num_spins,\n",
    "    rt,\n",
    "    chance,\n",
    "    stake,\n",
    "    freebie)"
   ]
  },
  {
   "cell_type": "code",
   "execution_count": null,
   "metadata": {},
   "outputs": [],
   "source": []
  }
 ],
 "metadata": {
  "kernelspec": {
   "display_name": "Python 3",
   "language": "python",
   "name": "python3"
  },
  "language_info": {
   "codemirror_mode": {
    "name": "ipython",
    "version": 3
   },
   "file_extension": ".py",
   "mimetype": "text/x-python",
   "name": "python",
   "nbconvert_exporter": "python",
   "pygments_lexer": "ipython3",
   "version": "3.8.3"
  }
 },
 "nbformat": 4,
 "nbformat_minor": 4
}
